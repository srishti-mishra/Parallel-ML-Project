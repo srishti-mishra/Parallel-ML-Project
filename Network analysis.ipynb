{
 "cells": [
  {
   "cell_type": "code",
   "execution_count": 2,
   "metadata": {},
   "outputs": [],
   "source": [
    "import numpy as np # linear algebra\n",
    "import pandas as pd # data processing, CSV file I/O (e.g. pd.read_csv)\n",
    "from bq_helper import BigQueryHelper\n",
    "import networkx as nx\n",
    "\n",
    "# import plotting library\n",
    "#%matplotlib inline\n",
    "import matplotlib.pyplot as plt\n",
    "plt.style.use('seaborn-whitegrid')\n",
    "plt.rcParams['figure.figsize'] = [12.0, 8.0]"
   ]
  },
  {
   "cell_type": "code",
   "execution_count": 6,
   "metadata": {},
   "outputs": [],
   "source": [
    "# Create helper object for the  the bigQuery data set\n",
    "import os\n",
    "os.environ[\"GOOGLE_APPLICATION_CREDENTIALS\"]=r\"C:\\Users\\srish\\Documents\\NEU\\Parallell ML and AI\\Untitled Folder\\json\\My First Project-dd9334d0c0a8.json\"\n",
    "\n",
    "blockchain_helper = BigQueryHelper(active_project=\"bigquery-public-data\",\n",
    "                                            dataset_name=\"bitcoin_blockchain\")"
   ]
  },
  {
   "cell_type": "code",
   "execution_count": 7,
   "metadata": {},
   "outputs": [
    {
     "data": {
      "text/plain": [
       "['blocks', 'transactions']"
      ]
     },
     "execution_count": 7,
     "metadata": {},
     "output_type": "execute_result"
    }
   ],
   "source": [
    "# inspect the structure\n",
    "blockchain_helper.list_tables()\n",
    "# look at a table of the information for both data sets"
   ]
  },
  {
   "cell_type": "code",
   "execution_count": 8,
   "metadata": {},
   "outputs": [
    {
     "data": {
      "text/html": [
       "<div>\n",
       "<style scoped>\n",
       "    .dataframe tbody tr th:only-of-type {\n",
       "        vertical-align: middle;\n",
       "    }\n",
       "\n",
       "    .dataframe tbody tr th {\n",
       "        vertical-align: top;\n",
       "    }\n",
       "\n",
       "    .dataframe thead th {\n",
       "        text-align: right;\n",
       "    }\n",
       "</style>\n",
       "<table border=\"1\" class=\"dataframe\">\n",
       "  <thead>\n",
       "    <tr style=\"text-align: right;\">\n",
       "      <th></th>\n",
       "      <th>timestamp</th>\n",
       "      <th>transaction_id</th>\n",
       "      <th>inputs</th>\n",
       "      <th>outputs</th>\n",
       "      <th>block_id</th>\n",
       "      <th>previous_block</th>\n",
       "      <th>merkle_root</th>\n",
       "      <th>nonce</th>\n",
       "      <th>version</th>\n",
       "      <th>work_terahash</th>\n",
       "      <th>work_error</th>\n",
       "    </tr>\n",
       "  </thead>\n",
       "  <tbody>\n",
       "    <tr>\n",
       "      <td>0</td>\n",
       "      <td>1241693386000</td>\n",
       "      <td>b78dd4052c5c19ed15bff7f7cbc072cb87601680165412...</td>\n",
       "      <td>[{'input_script_bytes': b'\\x04\\xff\\xff\\x00\\x1d...</td>\n",
       "      <td>[{'output_satoshis': 5000000000, 'output_scrip...</td>\n",
       "      <td>000000006b6810ea2b71871065c31f0939c61bc73ca19e...</td>\n",
       "      <td>000000009f9639803e3a9424f210004c25c2c2e6a85836...</td>\n",
       "      <td>b78dd4052c5c19ed15bff7f7cbc072cb87601680165412...</td>\n",
       "      <td>3796474150</td>\n",
       "      <td>1</td>\n",
       "      <td>0</td>\n",
       "      <td>None</td>\n",
       "    </tr>\n",
       "    <tr>\n",
       "      <td>1</td>\n",
       "      <td>1261947871000</td>\n",
       "      <td>bfcb4467092290da3bee702d5ffedfe1933c36a18b0e77...</td>\n",
       "      <td>[{'input_script_bytes': b'\\x04\\xff\\xff\\x00\\x1d...</td>\n",
       "      <td>[{'output_satoshis': 5000000000, 'output_scrip...</td>\n",
       "      <td>000000003d0aa75d182618516bf64536d94119d23ef412...</td>\n",
       "      <td>00000000c1405320b87082391bd82155d88728dea85cd6...</td>\n",
       "      <td>bfcb4467092290da3bee702d5ffedfe1933c36a18b0e77...</td>\n",
       "      <td>296968200</td>\n",
       "      <td>1</td>\n",
       "      <td>0</td>\n",
       "      <td>None</td>\n",
       "    </tr>\n",
       "    <tr>\n",
       "      <td>2</td>\n",
       "      <td>1262072718000</td>\n",
       "      <td>a069017c031239357a6d325c7a10e6f4ed7cb722b1cb38...</td>\n",
       "      <td>[{'input_script_bytes': b'\\x04\\xff\\xff\\x00\\x1d...</td>\n",
       "      <td>[{'output_satoshis': 5000000000, 'output_scrip...</td>\n",
       "      <td>00000000b574d15c470a479874f19ea232b8b26e3ab742...</td>\n",
       "      <td>00000000adfab959a70c842627272d1ab2124d5ced5e2b...</td>\n",
       "      <td>a069017c031239357a6d325c7a10e6f4ed7cb722b1cb38...</td>\n",
       "      <td>132461744</td>\n",
       "      <td>1</td>\n",
       "      <td>0</td>\n",
       "      <td>None</td>\n",
       "    </tr>\n",
       "    <tr>\n",
       "      <td>3</td>\n",
       "      <td>1261474382000</td>\n",
       "      <td>9b9d3a70b70df897e2383fe16a09286502222f7ca06653...</td>\n",
       "      <td>[{'input_script_bytes': b'\\x04\\xff\\xff\\x00\\x1d...</td>\n",
       "      <td>[{'output_satoshis': 5000000000, 'output_scrip...</td>\n",
       "      <td>000000006224e9ce1dbe8a9b593d8f0485a19983b479bd...</td>\n",
       "      <td>00000000833508fb6be4b80e977e3eaa04994353b81cb3...</td>\n",
       "      <td>9b9d3a70b70df897e2383fe16a09286502222f7ca06653...</td>\n",
       "      <td>40052755</td>\n",
       "      <td>1</td>\n",
       "      <td>0</td>\n",
       "      <td>None</td>\n",
       "    </tr>\n",
       "    <tr>\n",
       "      <td>4</td>\n",
       "      <td>1277392209000</td>\n",
       "      <td>3fe2d7fa73e776f591e075783bc24cbd3e2fff8d444c72...</td>\n",
       "      <td>[{'input_script_bytes': b'\\x04B1\\r\\x1c\\x02\\r\\x...</td>\n",
       "      <td>[{'output_satoshis': 5000000000, 'output_scrip...</td>\n",
       "      <td>0000000001ad7196de0396085a3fa95f2322722aa8b805...</td>\n",
       "      <td>000000000393cb2dc72fc296c66d9a19d2c01493e70c6d...</td>\n",
       "      <td>22d86d39b6d1226fbc372ce90f19e21c8b656ede4d8a8c...</td>\n",
       "      <td>90360458</td>\n",
       "      <td>1</td>\n",
       "      <td>0</td>\n",
       "      <td>None</td>\n",
       "    </tr>\n",
       "  </tbody>\n",
       "</table>\n",
       "</div>"
      ],
      "text/plain": [
       "       timestamp                                     transaction_id  \\\n",
       "0  1241693386000  b78dd4052c5c19ed15bff7f7cbc072cb87601680165412...   \n",
       "1  1261947871000  bfcb4467092290da3bee702d5ffedfe1933c36a18b0e77...   \n",
       "2  1262072718000  a069017c031239357a6d325c7a10e6f4ed7cb722b1cb38...   \n",
       "3  1261474382000  9b9d3a70b70df897e2383fe16a09286502222f7ca06653...   \n",
       "4  1277392209000  3fe2d7fa73e776f591e075783bc24cbd3e2fff8d444c72...   \n",
       "\n",
       "                                              inputs  \\\n",
       "0  [{'input_script_bytes': b'\\x04\\xff\\xff\\x00\\x1d...   \n",
       "1  [{'input_script_bytes': b'\\x04\\xff\\xff\\x00\\x1d...   \n",
       "2  [{'input_script_bytes': b'\\x04\\xff\\xff\\x00\\x1d...   \n",
       "3  [{'input_script_bytes': b'\\x04\\xff\\xff\\x00\\x1d...   \n",
       "4  [{'input_script_bytes': b'\\x04B1\\r\\x1c\\x02\\r\\x...   \n",
       "\n",
       "                                             outputs  \\\n",
       "0  [{'output_satoshis': 5000000000, 'output_scrip...   \n",
       "1  [{'output_satoshis': 5000000000, 'output_scrip...   \n",
       "2  [{'output_satoshis': 5000000000, 'output_scrip...   \n",
       "3  [{'output_satoshis': 5000000000, 'output_scrip...   \n",
       "4  [{'output_satoshis': 5000000000, 'output_scrip...   \n",
       "\n",
       "                                            block_id  \\\n",
       "0  000000006b6810ea2b71871065c31f0939c61bc73ca19e...   \n",
       "1  000000003d0aa75d182618516bf64536d94119d23ef412...   \n",
       "2  00000000b574d15c470a479874f19ea232b8b26e3ab742...   \n",
       "3  000000006224e9ce1dbe8a9b593d8f0485a19983b479bd...   \n",
       "4  0000000001ad7196de0396085a3fa95f2322722aa8b805...   \n",
       "\n",
       "                                      previous_block  \\\n",
       "0  000000009f9639803e3a9424f210004c25c2c2e6a85836...   \n",
       "1  00000000c1405320b87082391bd82155d88728dea85cd6...   \n",
       "2  00000000adfab959a70c842627272d1ab2124d5ced5e2b...   \n",
       "3  00000000833508fb6be4b80e977e3eaa04994353b81cb3...   \n",
       "4  000000000393cb2dc72fc296c66d9a19d2c01493e70c6d...   \n",
       "\n",
       "                                         merkle_root       nonce  version  \\\n",
       "0  b78dd4052c5c19ed15bff7f7cbc072cb87601680165412...  3796474150        1   \n",
       "1  bfcb4467092290da3bee702d5ffedfe1933c36a18b0e77...   296968200        1   \n",
       "2  a069017c031239357a6d325c7a10e6f4ed7cb722b1cb38...   132461744        1   \n",
       "3  9b9d3a70b70df897e2383fe16a09286502222f7ca06653...    40052755        1   \n",
       "4  22d86d39b6d1226fbc372ce90f19e21c8b656ede4d8a8c...    90360458        1   \n",
       "\n",
       "   work_terahash work_error  \n",
       "0              0       None  \n",
       "1              0       None  \n",
       "2              0       None  \n",
       "3              0       None  \n",
       "4              0       None  "
      ]
     },
     "execution_count": 8,
     "metadata": {},
     "output_type": "execute_result"
    }
   ],
   "source": [
    "blockchain_helper.head('transactions')"
   ]
  },
  {
   "cell_type": "code",
   "execution_count": 9,
   "metadata": {},
   "outputs": [
    {
     "data": {
      "text/html": [
       "<div>\n",
       "<style scoped>\n",
       "    .dataframe tbody tr th:only-of-type {\n",
       "        vertical-align: middle;\n",
       "    }\n",
       "\n",
       "    .dataframe tbody tr th {\n",
       "        vertical-align: top;\n",
       "    }\n",
       "\n",
       "    .dataframe thead th {\n",
       "        text-align: right;\n",
       "    }\n",
       "</style>\n",
       "<table border=\"1\" class=\"dataframe\">\n",
       "  <thead>\n",
       "    <tr style=\"text-align: right;\">\n",
       "      <th></th>\n",
       "      <th>block_id</th>\n",
       "      <th>previous_block</th>\n",
       "      <th>merkle_root</th>\n",
       "      <th>timestamp</th>\n",
       "      <th>difficultyTarget</th>\n",
       "      <th>nonce</th>\n",
       "      <th>version</th>\n",
       "      <th>work_terahash</th>\n",
       "      <th>work_error</th>\n",
       "      <th>transactions</th>\n",
       "      <th>row_number</th>\n",
       "    </tr>\n",
       "  </thead>\n",
       "  <tbody>\n",
       "    <tr>\n",
       "      <td>0</td>\n",
       "      <td>00000000000000000069564d0540f7d160fc7400e03c49...</td>\n",
       "      <td>0000000000000000005b63800e8bcad3720bbd0eb1de31...</td>\n",
       "      <td>edfc723aef8cb890ebfe5e344cb0396537b9eb16e303d9...</td>\n",
       "      <td>1515102747000</td>\n",
       "      <td>402690497</td>\n",
       "      <td>2223520064</td>\n",
       "      <td>536870912</td>\n",
       "      <td>82942944770</td>\n",
       "      <td>None</td>\n",
       "      <td>[{'transaction_id': '85980bce0852cd0c5486e74aa...</td>\n",
       "      <td>1</td>\n",
       "    </tr>\n",
       "    <tr>\n",
       "      <td>1</td>\n",
       "      <td>000000000000000000022ab0c5740584d31006ddcd1e20...</td>\n",
       "      <td>0000000000000000003fa343696761c709280e6c1960b6...</td>\n",
       "      <td>62eaf6717a4191717a73ec967c965567a644e64c6bfa6d...</td>\n",
       "      <td>1515688646000</td>\n",
       "      <td>402690497</td>\n",
       "      <td>2356290042</td>\n",
       "      <td>536870912</td>\n",
       "      <td>82942944770</td>\n",
       "      <td>None</td>\n",
       "      <td>[{'transaction_id': '1d305ff7f7a0a20b244cb297a...</td>\n",
       "      <td>1</td>\n",
       "    </tr>\n",
       "    <tr>\n",
       "      <td>2</td>\n",
       "      <td>000000000000000001628d23a7ba194fe9498676960947...</td>\n",
       "      <td>0000000000000000035278f6b3cdfd504dbc12ba6aa73a...</td>\n",
       "      <td>a0ab99611a82b0f2607e0f15bece5f27ee653c0e28512d...</td>\n",
       "      <td>1467313104000</td>\n",
       "      <td>402997206</td>\n",
       "      <td>1278950744</td>\n",
       "      <td>536870912</td>\n",
       "      <td>8996081931</td>\n",
       "      <td>None</td>\n",
       "      <td>[{'transaction_id': 'f3cde7dae624d6161b932431e...</td>\n",
       "      <td>1</td>\n",
       "    </tr>\n",
       "    <tr>\n",
       "      <td>3</td>\n",
       "      <td>00000000000000000025a758640f78eff1fe5bc472ff03...</td>\n",
       "      <td>0000000000000000000107f869d927913c9fe461221718...</td>\n",
       "      <td>2ee63d3176e5134fd4c4fb56455605caa0f4264695bbc3...</td>\n",
       "      <td>1530414240000</td>\n",
       "      <td>389508950</td>\n",
       "      <td>2427958816</td>\n",
       "      <td>536870912</td>\n",
       "      <td>218080250643</td>\n",
       "      <td>None</td>\n",
       "      <td>[{'transaction_id': '20475c1b5ac108d74970897d1...</td>\n",
       "      <td>1</td>\n",
       "    </tr>\n",
       "    <tr>\n",
       "      <td>4</td>\n",
       "      <td>0000000000000000004769939c52cfa8e8f1585b580080...</td>\n",
       "      <td>0000000000000000000e9767d1752bc44982204fd41f21...</td>\n",
       "      <td>c39b13747bc53ca09a0bb85282f8bfb085c91f10178b95...</td>\n",
       "      <td>1520194941000</td>\n",
       "      <td>392009692</td>\n",
       "      <td>719080265</td>\n",
       "      <td>536870912</td>\n",
       "      <td>129168124477</td>\n",
       "      <td>None</td>\n",
       "      <td>[{'transaction_id': '9f6dc05dc669a0a47d93f3b57...</td>\n",
       "      <td>1</td>\n",
       "    </tr>\n",
       "  </tbody>\n",
       "</table>\n",
       "</div>"
      ],
      "text/plain": [
       "                                            block_id  \\\n",
       "0  00000000000000000069564d0540f7d160fc7400e03c49...   \n",
       "1  000000000000000000022ab0c5740584d31006ddcd1e20...   \n",
       "2  000000000000000001628d23a7ba194fe9498676960947...   \n",
       "3  00000000000000000025a758640f78eff1fe5bc472ff03...   \n",
       "4  0000000000000000004769939c52cfa8e8f1585b580080...   \n",
       "\n",
       "                                      previous_block  \\\n",
       "0  0000000000000000005b63800e8bcad3720bbd0eb1de31...   \n",
       "1  0000000000000000003fa343696761c709280e6c1960b6...   \n",
       "2  0000000000000000035278f6b3cdfd504dbc12ba6aa73a...   \n",
       "3  0000000000000000000107f869d927913c9fe461221718...   \n",
       "4  0000000000000000000e9767d1752bc44982204fd41f21...   \n",
       "\n",
       "                                         merkle_root      timestamp  \\\n",
       "0  edfc723aef8cb890ebfe5e344cb0396537b9eb16e303d9...  1515102747000   \n",
       "1  62eaf6717a4191717a73ec967c965567a644e64c6bfa6d...  1515688646000   \n",
       "2  a0ab99611a82b0f2607e0f15bece5f27ee653c0e28512d...  1467313104000   \n",
       "3  2ee63d3176e5134fd4c4fb56455605caa0f4264695bbc3...  1530414240000   \n",
       "4  c39b13747bc53ca09a0bb85282f8bfb085c91f10178b95...  1520194941000   \n",
       "\n",
       "   difficultyTarget       nonce    version  work_terahash work_error  \\\n",
       "0         402690497  2223520064  536870912    82942944770       None   \n",
       "1         402690497  2356290042  536870912    82942944770       None   \n",
       "2         402997206  1278950744  536870912     8996081931       None   \n",
       "3         389508950  2427958816  536870912   218080250643       None   \n",
       "4         392009692   719080265  536870912   129168124477       None   \n",
       "\n",
       "                                        transactions  row_number  \n",
       "0  [{'transaction_id': '85980bce0852cd0c5486e74aa...           1  \n",
       "1  [{'transaction_id': '1d305ff7f7a0a20b244cb297a...           1  \n",
       "2  [{'transaction_id': 'f3cde7dae624d6161b932431e...           1  \n",
       "3  [{'transaction_id': '20475c1b5ac108d74970897d1...           1  \n",
       "4  [{'transaction_id': '9f6dc05dc669a0a47d93f3b57...           1  "
      ]
     },
     "execution_count": 9,
     "metadata": {},
     "output_type": "execute_result"
    }
   ],
   "source": [
    "blockchain_helper.head('blocks')"
   ]
  },
  {
   "cell_type": "code",
   "execution_count": 10,
   "metadata": {},
   "outputs": [
    {
     "data": {
      "text/plain": [
       "85.4835140183568"
      ]
     },
     "execution_count": 10,
     "metadata": {},
     "output_type": "execute_result"
    }
   ],
   "source": [
    "q_input = \"\"\"\n",
    "        WITH time AS \n",
    "            (\n",
    "                SELECT TIMESTAMP_MILLIS(timestamp) AS trans_time,\n",
    "                    inputs.input_pubkey_base58 AS input_key,\n",
    "                    outputs.output_pubkey_base58 AS output_key,\n",
    "                    outputs.output_satoshis AS satoshis,\n",
    "                    transaction_id AS trans_id\n",
    "                FROM `bigquery-public-data.bitcoin_blockchain.transactions`\n",
    "                    JOIN UNNEST (inputs) AS inputs\n",
    "                    JOIN UNNEST (outputs) AS outputs\n",
    "                WHERE inputs.input_pubkey_base58 = '1PuVaCWwDK8VmFj4EN8e2EgxvDpjeyJmRx'\n",
    "                    OR outputs.output_pubkey_base58 = '1PuVaCWwDK8VmFj4EN8e2EgxvDpjeyJmRx'\n",
    "            )\n",
    "        SELECT input_key, output_key, satoshis, trans_id,\n",
    "            EXTRACT(DATE FROM trans_time) AS date\n",
    "        FROM time\n",
    "        --ORDER BY date\n",
    "        \"\"\"\n",
    "blockchain_helper.estimate_query_size(q_input)"
   ]
  },
  {
   "cell_type": "code",
   "execution_count": 11,
   "metadata": {},
   "outputs": [
    {
     "name": "stdout",
     "output_type": "stream",
     "text": [
      "<class 'pandas.core.frame.DataFrame'>\n",
      "Int64Index: 1545 entries, 1006 to 709\n",
      "Data columns (total 6 columns):\n",
      "input_key     1545 non-null object\n",
      "output_key    1545 non-null object\n",
      "satoshis      1545 non-null int64\n",
      "trans_id      1545 non-null object\n",
      "date          1545 non-null datetime64[ns]\n",
      "bitcoin       1545 non-null float64\n",
      "dtypes: datetime64[ns](1), float64(1), int64(1), object(3)\n",
      "memory usage: 84.5+ KB\n",
      "None\n"
     ]
    },
    {
     "data": {
      "text/html": [
       "<div>\n",
       "<style scoped>\n",
       "    .dataframe tbody tr th:only-of-type {\n",
       "        vertical-align: middle;\n",
       "    }\n",
       "\n",
       "    .dataframe tbody tr th {\n",
       "        vertical-align: top;\n",
       "    }\n",
       "\n",
       "    .dataframe thead th {\n",
       "        text-align: right;\n",
       "    }\n",
       "</style>\n",
       "<table border=\"1\" class=\"dataframe\">\n",
       "  <thead>\n",
       "    <tr style=\"text-align: right;\">\n",
       "      <th></th>\n",
       "      <th>input_key</th>\n",
       "      <th>output_key</th>\n",
       "      <th>satoshis</th>\n",
       "      <th>trans_id</th>\n",
       "      <th>date</th>\n",
       "      <th>bitcoin</th>\n",
       "      <th>bitcoin_mod</th>\n",
       "    </tr>\n",
       "  </thead>\n",
       "  <tbody>\n",
       "    <tr>\n",
       "      <td>1216</td>\n",
       "      <td>1PuVaCWwDK8VmFj4EN8e2EgxvDpjeyJmRx</td>\n",
       "      <td>1PuVaCWwDK8VmFj4EN8e2EgxvDpjeyJmRx</td>\n",
       "      <td>25776684</td>\n",
       "      <td>5116eeaac0e9aee38df22fdaf84da0654004aea24f75b9...</td>\n",
       "      <td>2013-07-25</td>\n",
       "      <td>0.257767</td>\n",
       "      <td>-0.257767</td>\n",
       "    </tr>\n",
       "    <tr>\n",
       "      <td>1215</td>\n",
       "      <td>1PuVaCWwDK8VmFj4EN8e2EgxvDpjeyJmRx</td>\n",
       "      <td>16quexR7v37UiT5BgPCfHU8zXnQNQy7Uxj</td>\n",
       "      <td>5173316</td>\n",
       "      <td>5116eeaac0e9aee38df22fdaf84da0654004aea24f75b9...</td>\n",
       "      <td>2013-07-25</td>\n",
       "      <td>0.051733</td>\n",
       "      <td>-0.051733</td>\n",
       "    </tr>\n",
       "    <tr>\n",
       "      <td>1119</td>\n",
       "      <td>1PuVaCWwDK8VmFj4EN8e2EgxvDpjeyJmRx</td>\n",
       "      <td>1MPX124i8kiYAPLspx7FDrscafxSHatFar</td>\n",
       "      <td>3678161</td>\n",
       "      <td>d3258a98db72d981b0d668a7ec03deb4be859af45cd53d...</td>\n",
       "      <td>2013-07-31</td>\n",
       "      <td>0.036782</td>\n",
       "      <td>-0.036782</td>\n",
       "    </tr>\n",
       "    <tr>\n",
       "      <td>1120</td>\n",
       "      <td>1PuVaCWwDK8VmFj4EN8e2EgxvDpjeyJmRx</td>\n",
       "      <td>1PuVaCWwDK8VmFj4EN8e2EgxvDpjeyJmRx</td>\n",
       "      <td>22098523</td>\n",
       "      <td>d3258a98db72d981b0d668a7ec03deb4be859af45cd53d...</td>\n",
       "      <td>2013-07-31</td>\n",
       "      <td>0.220985</td>\n",
       "      <td>-0.220985</td>\n",
       "    </tr>\n",
       "    <tr>\n",
       "      <td>257</td>\n",
       "      <td>1PuVaCWwDK8VmFj4EN8e2EgxvDpjeyJmRx</td>\n",
       "      <td>19f7giu2QEscGYbPETFv7czTqVd8i4ZR8Z</td>\n",
       "      <td>3767656</td>\n",
       "      <td>ef8ac7f1e8a875fec33e0f9dfe78f1a1d30be77fdd64bc...</td>\n",
       "      <td>2013-08-01</td>\n",
       "      <td>0.037677</td>\n",
       "      <td>-0.037677</td>\n",
       "    </tr>\n",
       "  </tbody>\n",
       "</table>\n",
       "</div>"
      ],
      "text/plain": [
       "                               input_key                          output_key  \\\n",
       "1216  1PuVaCWwDK8VmFj4EN8e2EgxvDpjeyJmRx  1PuVaCWwDK8VmFj4EN8e2EgxvDpjeyJmRx   \n",
       "1215  1PuVaCWwDK8VmFj4EN8e2EgxvDpjeyJmRx  16quexR7v37UiT5BgPCfHU8zXnQNQy7Uxj   \n",
       "1119  1PuVaCWwDK8VmFj4EN8e2EgxvDpjeyJmRx  1MPX124i8kiYAPLspx7FDrscafxSHatFar   \n",
       "1120  1PuVaCWwDK8VmFj4EN8e2EgxvDpjeyJmRx  1PuVaCWwDK8VmFj4EN8e2EgxvDpjeyJmRx   \n",
       "257   1PuVaCWwDK8VmFj4EN8e2EgxvDpjeyJmRx  19f7giu2QEscGYbPETFv7czTqVd8i4ZR8Z   \n",
       "\n",
       "      satoshis                                           trans_id       date  \\\n",
       "1216  25776684  5116eeaac0e9aee38df22fdaf84da0654004aea24f75b9... 2013-07-25   \n",
       "1215   5173316  5116eeaac0e9aee38df22fdaf84da0654004aea24f75b9... 2013-07-25   \n",
       "1119   3678161  d3258a98db72d981b0d668a7ec03deb4be859af45cd53d... 2013-07-31   \n",
       "1120  22098523  d3258a98db72d981b0d668a7ec03deb4be859af45cd53d... 2013-07-31   \n",
       "257    3767656  ef8ac7f1e8a875fec33e0f9dfe78f1a1d30be77fdd64bc... 2013-08-01   \n",
       "\n",
       "       bitcoin  bitcoin_mod  \n",
       "1216  0.257767    -0.257767  \n",
       "1215  0.051733    -0.051733  \n",
       "1119  0.036782    -0.036782  \n",
       "1120  0.220985    -0.220985  \n",
       "257   0.037677    -0.037677  "
      ]
     },
     "execution_count": 11,
     "metadata": {},
     "output_type": "execute_result"
    }
   ],
   "source": [
    "q3 = blockchain_helper.query_to_pandas(q_input)\n",
    "q3.head(10)\n",
    "\n",
    "# make a datatime type transformation\n",
    "q3['date'] = pd.to_datetime(q3.date)\n",
    "q3 = q3.sort_values('date')\n",
    "# convert satoshis to bitcoin\n",
    "q3['bitcoin'] = q3['satoshis'].apply(lambda x: float(x/100000000))\n",
    "print(q3.info())\n",
    "\n",
    "# make any sending of bitcoin a negative value representing 'leaving' this wallet\n",
    "q3['bitcoin_mod'] = q3['bitcoin']\n",
    "q3.loc[q3['input_key'] == '1PuVaCWwDK8VmFj4EN8e2EgxvDpjeyJmRx', 'bitcoin_mod'] = -q3['bitcoin_mod']\n",
    "# sanity check...\n",
    "q3.loc[q3['input_key'] == '1PuVaCWwDK8VmFj4EN8e2EgxvDpjeyJmRx'].head()"
   ]
  },
  {
   "cell_type": "code",
   "execution_count": 12,
   "metadata": {},
   "outputs": [
    {
     "name": "stdout",
     "output_type": "stream",
     "text": [
      "<class 'pandas.core.frame.DataFrame'>\n",
      "Int64Index: 1545 entries, 1006 to 709\n",
      "Data columns (total 7 columns):\n",
      "input_key      1545 non-null object\n",
      "output_key     1545 non-null object\n",
      "satoshis       1545 non-null int64\n",
      "trans_id       1545 non-null object\n",
      "date           1545 non-null datetime64[ns]\n",
      "bitcoin        1545 non-null float64\n",
      "bitcoin_mod    1545 non-null float64\n",
      "dtypes: datetime64[ns](1), float64(2), int64(1), object(3)\n",
      "memory usage: 136.6+ KB\n"
     ]
    },
    {
     "data": {
      "text/plain": [
       "6.545454545454546"
      ]
     },
     "execution_count": 12,
     "metadata": {},
     "output_type": "execute_result"
    }
   ],
   "source": [
    "q3.info()\n",
    "# how many unique addresses are included in this wallets transaction history?\n",
    "q3['output_key'].nunique()\n",
    "# how many transactions to the top 10 addresses?\n",
    "# extreme value for the top address...\n",
    "q3['output_key'].value_counts().nlargest(10)\n",
    "# fold difference between the largest and second largest wallet transactions - 44X!\n",
    "# what is the story behind this wallet...?\n",
    "q3['output_key'].value_counts().nlargest(5).iloc[0] / q3['output_key'].value_counts().nlargest(5).iloc[1]"
   ]
  },
  {
   "cell_type": "code",
   "execution_count": 13,
   "metadata": {},
   "outputs": [
    {
     "data": {
      "text/plain": [
       "101.16666666666667"
      ]
     },
     "execution_count": 13,
     "metadata": {},
     "output_type": "execute_result"
    }
   ],
   "source": [
    "# how many unique addresses are included in this wallets transaction history?\n",
    "q3['input_key'].nunique()\n",
    "# how many transactions to the top 10 addresses?\n",
    "# extreme value for the top address...\n",
    "q3['input_key'].value_counts().nlargest(10)\n",
    "# fold difference between the largest and second largest wallet transactions - 44X!\n",
    "# what is the story behind this wallet...?\n",
    "q3['input_key'].value_counts().nlargest(5).iloc[0] / q3['input_key'].value_counts().nlargest(5).iloc[1]"
   ]
  },
  {
   "cell_type": "code",
   "execution_count": 14,
   "metadata": {},
   "outputs": [
    {
     "name": "stderr",
     "output_type": "stream",
     "text": [
      "C:\\Users\\srish\\Anaconda3\\lib\\site-packages\\pandas\\plotting\\_matplotlib\\converter.py:103: FutureWarning: Using an implicitly registered datetime converter for a matplotlib plotting method. The converter was registered by pandas on import. Future versions of pandas will require you to explicitly register matplotlib converters.\n",
      "\n",
      "To register the converters:\n",
      "\t>>> from pandas.plotting import register_matplotlib_converters\n",
      "\t>>> register_matplotlib_converters()\n",
      "  warnings.warn(msg, FutureWarning)\n"
     ]
    },
    {
     "data": {
      "text/plain": [
       "Text(0.5, 0.98, 'Volume of Transactions Per Day')"
      ]
     },
     "execution_count": 14,
     "metadata": {},
     "output_type": "execute_result"
    },
    {
     "data": {
      "image/png": "[encoded data removed]",
      "text/plain": [
       "<Figure size 432x288 with 1 Axes>"
      ]
     },
     "metadata": {
      "needs_background": "light"
     },
     "output_type": "display_data"
    }
   ],
   "source": [
    "# we should look at transaction activity across time\n",
    "q3_plot = q3['date'].value_counts()\n",
    "q3_plot.head()\n",
    "# plotting params\n",
    "ax = plt.gca()\n",
    "ax.scatter(q3_plot.index, q3_plot.values)\n",
    "plt.xlabel('Date', fontsize=18)\n",
    "plt.ylabel('Transactions', fontsize=18)\n",
    "plt.suptitle('Volume of Transactions Per Day', fontsize=22)\n",
    "#ax.set_yscale('log')"
   ]
  },
  {
   "cell_type": "code",
   "execution_count": 15,
   "metadata": {},
   "outputs": [
    {
     "data": {
      "text/plain": [
       "<matplotlib.collections.PathCollection at 0x2c5c56f3fc8>"
      ]
     },
     "execution_count": 15,
     "metadata": {},
     "output_type": "execute_result"
    },
    {
     "data": {
      "image/png": "[encoded data removed]",
      "text/plain": [
       "<Figure size 432x288 with 1 Axes>"
      ]
     },
     "metadata": {
      "needs_background": "light"
     },
     "output_type": "display_data"
    }
   ],
   "source": [
    "# daily difference in input transactions and output transactions\n",
    "daily_diff = q3.groupby(['date'])['input_key', 'output_key'].nunique()\n",
    "daily_diff['difference'] = daily_diff.input_key - daily_diff.output_key\n",
    "plt.scatter(daily_diff.index, daily_diff.difference, c=daily_diff.difference, cmap='viridis')"
   ]
  },
  {
   "cell_type": "code",
   "execution_count": 16,
   "metadata": {},
   "outputs": [
    {
     "data": {
      "text/plain": [
       "0.6634304207119741"
      ]
     },
     "execution_count": 16,
     "metadata": {},
     "output_type": "execute_result"
    }
   ],
   "source": [
    "# percentage of unique transactions out of total - the rest must be transactions to multiple addresses (don't really understand this...)\n",
    "q3['trans_id'].nunique() / len(q3)\n",
    "# there are multiple records of the same input to outout address recoreded with the same transaction ID\n",
    "# why does this happen? is the total transferred bitcoin for a transaction being split up across several records?\n",
    "len(q3.groupby(['trans_id', 'output_key']).nunique()) / len(q3)"
   ]
  },
  {
   "cell_type": "code",
   "execution_count": 17,
   "metadata": {},
   "outputs": [
    {
     "data": {
      "text/plain": [
       "date        trans_id                                                        \n",
       "2013-07-25  5116eeaac0e9aee38df22fdaf84da0654004aea24f75b934f841df93c24975b5    0.309500\n",
       "            fb526a3b9bbe205387e52024b2174e99e3c2f16b329baabe7021d99bfdd11a07    0.310000\n",
       "2013-07-31  d3258a98db72d981b0d668a7ec03deb4be859af45cd53d6e3b67e77113a0bda1    0.257767\n",
       "2013-08-01  ba54359375fd17e11dd1566f1c676aea2bd6de3ec003d500b97225634150e65f    0.220485\n",
       "            ef8ac7f1e8a875fec33e0f9dfe78f1a1d30be77fdd64bc674cc9b09b6100821b    0.191935\n",
       "2013-08-06  2786c0a2110ae1b7567452d45aafc2565f3cfb7dafe0ca45e08e8dff005e9ed5    0.153758\n",
       "            56ed6c6e0ba30884ae195d078bac13f8d51dbff6669b72b1d03be4a90fced203    0.042058\n",
       "2013-08-13  7f9458d4b8c81060ce8f678688ca14afa62ed17939b617c1d86c41a98a40e8b0    0.120687\n",
       "            8d8e77246120cd4a987aac821138791f851989c9743998feede906b53d9628ca    0.168224\n",
       "            bea71abe4f7fddf0cad0e6b0e4d16da48abb24741d14a2be012af5b255a61576    0.167724\n",
       "Name: bitcoin, dtype: float64"
      ]
     },
     "execution_count": 17,
     "metadata": {},
     "output_type": "execute_result"
    }
   ],
   "source": [
    "# lets group each individual transaction and the total amount of bitcoin sent / received and plot over time\n",
    "trans_plot = q3.groupby(['date', 'trans_id'])['bitcoin'].sum()\n",
    "trans_plot.head(10)"
   ]
  },
  {
   "cell_type": "code",
   "execution_count": 18,
   "metadata": {},
   "outputs": [
    {
     "data": {
      "text/plain": [
       "Text(0.5, 0.98, 'Net Bitcoin Transacted Per Day')"
      ]
     },
     "execution_count": 18,
     "metadata": {},
     "output_type": "execute_result"
    },
    {
     "data": {
      "image/png": "[encoded data removed]",
      "text/plain": [
       "<Figure size 432x288 with 1 Axes>"
      ]
     },
     "metadata": {
      "needs_background": "light"
     },
     "output_type": "display_data"
    }
   ],
   "source": [
    "# lets plot the value of transactions over time from this wallet\n",
    "q4_plot = q3.groupby('date', as_index=False)[['bitcoin_mod']].sum()\n",
    "plt.plot_date(q4_plot['date'], q4_plot['bitcoin_mod'])\n",
    "plt.ylabel('Bitcoin', fontsize=18)\n",
    "plt.xlabel('Date', fontsize=18)\n",
    "plt.suptitle('Net Bitcoin Transacted Per Day', fontsize=22)"
   ]
  },
  {
   "cell_type": "code",
   "execution_count": 29,
   "metadata": {},
   "outputs": [
    {
     "data": {
      "text/plain": [
       "Text(0.5, 1.0, 'Monthly Transaction Volume & Net Bitcoin Exchange')"
      ]
     },
     "execution_count": 29,
     "metadata": {},
     "output_type": "execute_result"
    },
    {
     "data": {
      "image/png": "[encoded data removed]",
      "text/plain": [
       "<Figure size 432x288 with 1 Axes>"
      ]
     },
     "metadata": {
      "needs_background": "light"
     },
     "output_type": "display_data"
    }
   ],
   "source": [
    "corr_plot = q3.groupby([q3['date'].dt.month]).sum().reset_index()\n",
    "corr_plot = q3.set_index(pd.DatetimeIndex(q3['date'])).groupby(pd.Grouper(freq='M'))[['trans_id']].count()\n",
    "corr_plot = corr_plot.join(value_plot)\n",
    "corr_plot.head()\n",
    "plt.scatter(corr_plot.index, corr_plot['trans_id'])\n",
    "plt.scatter(corr_plot.index, corr_plot['bitcoin_mod'])\n",
    "plt.legend(fontsize=14, labels=('Volume Transactions', 'Net Bitcoin Exchange'))\n",
    "plt.xlabel('Date by Month', fontsize=18)\n",
    "#plt.ylabel('Transactions', fontsize=18)\n",
    "plt.title('Monthly Transaction Volume & Net Bitcoin Exchange', fontsize=22)"
   ]
  },
  {
   "cell_type": "code",
   "execution_count": 30,
   "metadata": {},
   "outputs": [
    {
     "data": {
      "text/html": [
       "<div>\n",
       "<style scoped>\n",
       "    .dataframe tbody tr th:only-of-type {\n",
       "        vertical-align: middle;\n",
       "    }\n",
       "\n",
       "    .dataframe tbody tr th {\n",
       "        vertical-align: top;\n",
       "    }\n",
       "\n",
       "    .dataframe thead th {\n",
       "        text-align: right;\n",
       "    }\n",
       "</style>\n",
       "<table border=\"1\" class=\"dataframe\">\n",
       "  <thead>\n",
       "    <tr style=\"text-align: right;\">\n",
       "      <th></th>\n",
       "      <th>bitcoin_mod</th>\n",
       "      <th>trans_id</th>\n",
       "      <th>bitcoin_mod</th>\n",
       "    </tr>\n",
       "  </thead>\n",
       "  <tbody>\n",
       "    <tr>\n",
       "      <td>bitcoin_mod</td>\n",
       "      <td>1.000000</td>\n",
       "      <td>-0.339083</td>\n",
       "      <td>1.000000</td>\n",
       "    </tr>\n",
       "    <tr>\n",
       "      <td>trans_id</td>\n",
       "      <td>-0.339083</td>\n",
       "      <td>1.000000</td>\n",
       "      <td>-0.339083</td>\n",
       "    </tr>\n",
       "    <tr>\n",
       "      <td>bitcoin_mod</td>\n",
       "      <td>1.000000</td>\n",
       "      <td>-0.339083</td>\n",
       "      <td>1.000000</td>\n",
       "    </tr>\n",
       "  </tbody>\n",
       "</table>\n",
       "</div>"
      ],
      "text/plain": [
       "             bitcoin_mod  trans_id  bitcoin_mod\n",
       "bitcoin_mod     1.000000 -0.339083     1.000000\n",
       "trans_id       -0.339083  1.000000    -0.339083\n",
       "bitcoin_mod     1.000000 -0.339083     1.000000"
      ]
     },
     "execution_count": 30,
     "metadata": {},
     "output_type": "execute_result"
    }
   ],
   "source": [
    "# look at a correlation matrix between transactions in a given month\n",
    "# and net bitcoins transacted in a given month\n",
    "fin_corr = pd.concat([value_plot, corr_plot], axis = 1)\n",
    "fin_corr.corr()"
   ]
  },
  {
   "cell_type": "code",
   "execution_count": null,
   "metadata": {},
   "outputs": [],
   "source": [
    "# top 20 wallets bitcoins sent out to\n",
    "nx_plot_asc = q3.groupby(['input_key', 'output_key'], as_index=False)['bitcoin_mod'].sum().sort_values(by='bitcoin_mod', ascending=True)[0:20]\n",
    "# top 20 wallets bitcoins received from\n",
    "nx_plot_desc = q3.groupby(['input_key', 'output_key'], as_index=False)['bitcoin_mod'].sum().sort_values(by='bitcoin_mod', ascending=False)[0:20]\n",
    "nx_plot = pd.concat([nx_plot_asc, nx_plot_desc], ignore_index=True)\n",
    "\n",
    "# networkx graph of net volumne of bitcoins transacted (most into and most out of the wallet in question)\n",
    "G = nx.from_pandas_edgelist(nx_plot, 'input_key', 'output_key', 'bitcoin_mod', nx.DiGraph())\n",
    "# specify node color\n",
    "color_list = []\n",
    "for node in G.nodes():\n",
    "    if node == '1NxaBCFQwejSZbQfWcYNwgqML5wWoE3rK4':\n",
    "        color_list.append('red')\n",
    "    else:\n",
    "        color_list.append('green')\n",
    "# plot\n",
    "pos=nx.random_layout(G)\n",
    "nx.draw_networkx_nodes(G,pos, node_list= G.nodes(),node_color=color_list,node_size=100)\n",
    "nx.draw_networkx_edges(G, pos)\n",
    "#nx.draw_networkx_labels(G, pos, font_size=8)\n",
    "plt.title('Net Volume Bitcoins Exchanged', fontsize=22)"
   ]
  }
 ],
 "metadata": {
  "kernelspec": {
   "display_name": "Python 3",
   "language": "python",
   "name": "python3"
  },
  "language_info": {
   "codemirror_mode": {
    "name": "ipython",
    "version": 3
   },
   "file_extension": ".py",
   "mimetype": "text/x-python",
   "name": "python",
   "nbconvert_exporter": "python",
   "pygments_lexer": "ipython3",
   "version": "3.7.4"
  }
 },
 "nbformat": 4,
 "nbformat_minor": 2
}
