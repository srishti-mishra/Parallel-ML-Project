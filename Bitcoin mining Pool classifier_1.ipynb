{
 "cells": [
  {
   "cell_type": "code",
   "execution_count": 1,
   "metadata": {},
   "outputs": [
    {
     "name": "stdout",
     "output_type": "stream",
     "text": [
      "Success 1\n"
     ]
    }
   ],
   "source": [
    "from google.cloud import bigquery\n",
    "import os\n",
    "os.environ[\"GOOGLE_APPLICATION_CREDENTIALS\"]=r\"C:\\Users\\srish\\Documents\\NEU\\Parallell ML and AI\\Untitled Folder\\json\\bitcoin.json\"\n",
    "client = bigquery.Client()\n",
    "client = bigquery.Client()\n",
    "import matplotlib.pyplot as plt\n",
    "import matplotlib.ticker as mtick\n",
    "import numpy as np\n",
    "import pandas as pd\n",
    "import itertools\n",
    "\n",
    "from sklearn.model_selection import train_test_split\n",
    "from sklearn.ensemble import RandomForestClassifier\n",
    "from sklearn.metrics import  confusion_matrix, recall_score,precision_score, precision_recall_curve, f1_score, fbeta_score\n",
    "from funcsigs import signature\n",
    "import time\n",
    "\n",
    "print(\"Success 1\")"
   ]
  },
  {
   "cell_type": "code",
   "execution_count": 2,
   "metadata": {},
   "outputs": [
    {
     "name": "stdout",
     "output_type": "stream",
     "text": [
      "Success 2\n"
     ]
    }
   ],
   "source": [
    "miner_vectors_limit = 2000\n",
    "non_miner_vectors_limit = 20000\n",
    "print(\"Success 2\")"
   ]
  },
  {
   "cell_type": "code",
   "execution_count": 3,
   "metadata": {},
   "outputs": [
    {
     "name": "stdout",
     "output_type": "stream",
     "text": [
      "Success 3\n"
     ]
    }
   ],
   "source": [
    "sql='''\n",
    "WITH \n",
    "output_ages AS (\n",
    "  SELECT\n",
    "    ARRAY_TO_STRING(outputs.addresses,',') AS output_ages_address,\n",
    "    MIN(block_timestamp_month) AS output_month_min,\n",
    "    MAX(block_timestamp_month) AS output_month_max\n",
    "  FROM `bigquery-public-data.crypto_bitcoin.transactions` AS transactions JOIN UNNEST(outputs) AS outputs\n",
    "  GROUP BY output_ages_address\n",
    ")\n",
    ",input_ages AS (\n",
    "  SELECT\n",
    "    ARRAY_TO_STRING(inputs.addresses,',') AS input_ages_address,\n",
    "    MIN(block_timestamp_month) AS input_month_min,\n",
    "    MAX(block_timestamp_month) AS input_month_max\n",
    "  FROM `bigquery-public-data.crypto_bitcoin.transactions` AS transactions JOIN UNNEST(inputs) AS inputs\n",
    "  GROUP BY input_ages_address\n",
    ")\n",
    ",output_monthly_stats AS (\n",
    "  SELECT\n",
    "    ARRAY_TO_STRING(outputs.addresses,',') AS output_monthly_stats_address, \n",
    "    COUNT(DISTINCT block_timestamp_month) AS output_active_months,\n",
    "    COUNT(outputs) AS total_tx_output_count,\n",
    "    SUM(value) AS total_tx_output_value,\n",
    "    AVG(value) AS mean_tx_output_value,\n",
    "    STDDEV(value) AS stddev_tx_output_value,\n",
    "    COUNT(DISTINCT(`hash`)) AS total_output_tx,\n",
    "    SUM(value)/COUNT(block_timestamp_month) AS mean_monthly_output_value,\n",
    "    COUNT(outputs.addresses)/COUNT(block_timestamp_month) AS mean_monthly_output_count\n",
    "  FROM `bigquery-public-data.crypto_bitcoin.transactions` AS transactions JOIN UNNEST(outputs) AS outputs\n",
    "  GROUP BY output_monthly_stats_address\n",
    ")\n",
    ",input_monthly_stats AS (\n",
    "  SELECT\n",
    "    ARRAY_TO_STRING(inputs.addresses,',') AS input_monthly_stats_address, \n",
    "    COUNT(DISTINCT block_timestamp_month) AS input_active_months,\n",
    "    COUNT(inputs) AS total_tx_input_count,\n",
    "    SUM(value) AS total_tx_input_value,\n",
    "    AVG(value) AS mean_tx_input_value,\n",
    "    STDDEV(value) AS stddev_tx_input_value,\n",
    "    COUNT(DISTINCT(`hash`)) AS total_input_tx,\n",
    "    SUM(value)/COUNT(block_timestamp_month) AS mean_monthly_input_value,\n",
    "    COUNT(inputs.addresses)/COUNT(block_timestamp_month) AS mean_monthly_input_count\n",
    "  FROM `bigquery-public-data.crypto_bitcoin.transactions` AS transactions JOIN UNNEST(inputs) AS inputs\n",
    "  GROUP BY input_monthly_stats_address\n",
    ")\n",
    ",output_idle_times AS (\n",
    "  SELECT\n",
    "    address AS idle_time_address,\n",
    "    AVG(idle_time) AS mean_output_idle_time,\n",
    "    STDDEV(idle_time) AS stddev_output_idle_time\n",
    "  FROM\n",
    "  (\n",
    "    SELECT \n",
    "      event.address,\n",
    "      IF(prev_block_time IS NULL, NULL, UNIX_SECONDS(block_time) - UNIX_SECONDS(prev_block_time)) AS idle_time\n",
    "    FROM (\n",
    "      SELECT\n",
    "        ARRAY_TO_STRING(outputs.addresses,',') AS address, \n",
    "        block_timestamp AS block_time,\n",
    "        LAG(block_timestamp) OVER (PARTITION BY ARRAY_TO_STRING(outputs.addresses,',') ORDER BY block_timestamp) AS prev_block_time\n",
    "      FROM `bigquery-public-data.crypto_bitcoin.transactions` AS transactions JOIN UNNEST(outputs) AS outputs\n",
    "    ) AS event\n",
    "    WHERE block_time != prev_block_time\n",
    "  )\n",
    "  GROUP BY address\n",
    ")\n",
    ",input_idle_times AS (\n",
    "  SELECT\n",
    "    address AS idle_time_address,\n",
    "    AVG(idle_time) AS mean_input_idle_time,\n",
    "    STDDEV(idle_time) AS stddev_input_idle_time\n",
    "  FROM\n",
    "  (\n",
    "    SELECT \n",
    "      event.address,\n",
    "      IF(prev_block_time IS NULL, NULL, UNIX_SECONDS(block_time) - UNIX_SECONDS(prev_block_time)) AS idle_time\n",
    "    FROM (\n",
    "      SELECT\n",
    "        ARRAY_TO_STRING(inputs.addresses,',') AS address, \n",
    "        block_timestamp AS block_time,\n",
    "        LAG(block_timestamp) OVER (PARTITION BY ARRAY_TO_STRING(inputs.addresses,',') ORDER BY block_timestamp) AS prev_block_time\n",
    "      FROM `bigquery-public-data.crypto_bitcoin.transactions` AS transactions JOIN UNNEST(inputs) AS inputs\n",
    "    ) AS event\n",
    "    WHERE block_time != prev_block_time\n",
    "  )\n",
    "  GROUP BY address\n",
    ")\n",
    "--,miners AS (\n",
    "--)\n",
    "\n",
    "(SELECT\n",
    "  TRUE AS is_miner,\n",
    "  output_ages_address AS address,\n",
    "  UNIX_SECONDS(CAST(output_ages.output_month_min AS TIMESTAMP)) AS output_month_min,\n",
    "  UNIX_SECONDS(CAST(output_ages.output_month_max AS TIMESTAMP)) AS output_month_max,\n",
    "  UNIX_SECONDS(CAST(input_ages.input_month_min AS TIMESTAMP)) AS input_month_min,\n",
    "  UNIX_SECONDS(CAST(input_ages.input_month_max AS TIMESTAMP)) AS input_month_max,\n",
    "  UNIX_SECONDS(CAST(output_ages.output_month_max AS TIMESTAMP)) - UNIX_SECONDS(CAST(output_ages.output_month_min AS TIMESTAMP)) AS output_active_time,\n",
    "  UNIX_SECONDS(CAST(input_ages.input_month_max AS TIMESTAMP)) - UNIX_SECONDS(CAST(input_ages.input_month_min AS TIMESTAMP)) AS input_active_time,\n",
    "  UNIX_SECONDS(CAST(output_ages.output_month_max AS TIMESTAMP)) - UNIX_SECONDS(CAST(input_ages.input_month_max AS TIMESTAMP)) AS io_max_lag,\n",
    "  UNIX_SECONDS(CAST(output_ages.output_month_min AS TIMESTAMP)) - UNIX_SECONDS(CAST(input_ages.input_month_min AS TIMESTAMP)) AS io_min_lag,\n",
    "  output_monthly_stats.output_active_months,\n",
    "  output_monthly_stats.total_tx_output_count,\n",
    "  output_monthly_stats.total_tx_output_value,\n",
    "  output_monthly_stats.mean_tx_output_value,\n",
    "  output_monthly_stats.stddev_tx_output_value,\n",
    "  output_monthly_stats.total_output_tx,\n",
    "  output_monthly_stats.mean_monthly_output_value,\n",
    "  output_monthly_stats.mean_monthly_output_count,\n",
    "  input_monthly_stats.input_active_months,\n",
    "  input_monthly_stats.total_tx_input_count,\n",
    "  input_monthly_stats.total_tx_input_value,\n",
    "  input_monthly_stats.mean_tx_input_value,\n",
    "  input_monthly_stats.stddev_tx_input_value,\n",
    "  input_monthly_stats.total_input_tx,\n",
    "  input_monthly_stats.mean_monthly_input_value,\n",
    "  input_monthly_stats.mean_monthly_input_count,\n",
    "  output_idle_times.mean_output_idle_time,\n",
    "  output_idle_times.stddev_output_idle_time,\n",
    "  input_idle_times.mean_input_idle_time,\n",
    "  input_idle_times.stddev_input_idle_time\n",
    "FROM\n",
    "  output_ages, output_monthly_stats, output_idle_times,\n",
    "  input_ages,  input_monthly_stats, input_idle_times\n",
    "WHERE TRUE\n",
    "  AND output_ages.output_ages_address = output_monthly_stats.output_monthly_stats_address\n",
    "  AND output_ages.output_ages_address = output_idle_times.idle_time_address\n",
    "  AND output_ages.output_ages_address = input_monthly_stats.input_monthly_stats_address\n",
    "  AND output_ages.output_ages_address = input_ages.input_ages_address\n",
    "  AND output_ages.output_ages_address = input_idle_times.idle_time_address\n",
    "  AND output_ages.output_ages_address IN\n",
    "(\n",
    "  SELECT \n",
    "    ARRAY_TO_STRING(outputs.addresses,',') AS miner\n",
    "  FROM \n",
    "  `bigquery-public-data.crypto_bitcoin.blocks` AS blocks,\n",
    "  `bigquery-public-data.crypto_bitcoin.transactions` AS transactions JOIN UNNEST(outputs) AS outputs\n",
    "  WHERE blocks.hash = transactions.block_hash \n",
    "    AND is_coinbase IS TRUE\n",
    "    AND ( FALSE\n",
    "      --\n",
    "      -- miner signatures from https://en.bitcoin.it/wiki/Comparison_of_mining_pools\n",
    "      --\n",
    "      OR coinbase_param LIKE '%4d696e656420627920416e74506f6f6c%' --AntPool\n",
    "      OR coinbase_param LIKE '%2f42434d6f6e737465722f%' --BCMonster\n",
    "      --BitcoinAffiliateNetwork\n",
    "      OR coinbase_param LIKE '%4269744d696e746572%' --BitMinter\n",
    "      --BTC.com\n",
    "      --BTCC Pool\n",
    "      --BTCDig\n",
    "      OR coinbase_param LIKE '%2f7374726174756d2f%' --Btcmp\n",
    "      --btcZPool.com\n",
    "      --BW Mining\n",
    "      OR coinbase_param LIKE '%456c6967697573%' --Eligius\n",
    "      --F2Pool\n",
    "      --GHash.IO\n",
    "      --Give Me COINS\n",
    "      --Golden Nonce Pool\n",
    "      OR coinbase_param LIKE '%2f627261766f2d6d696e696e672f%' --Bravo Mining\n",
    "      OR coinbase_param LIKE '%4b616e6f%' --KanoPool\n",
    "      --kmdPool.org\n",
    "      OR coinbase_param LIKE '%2f6d6d706f6f6c%' --Merge Mining Pool\n",
    "      --MergeMining\n",
    "      --Multipool\n",
    "      --P2Pool\n",
    "      OR coinbase_param LIKE '%2f736c7573682f%' --Slush Pool\n",
    "      --ZenPool.org\n",
    "    )\n",
    "  GROUP BY miner\n",
    "  HAVING COUNT(1) >= 20 \n",
    ")\n",
    "LIMIT {})\n",
    "UNION ALL\n",
    "(SELECT\n",
    "  FALSE AS is_miner,\n",
    "  output_ages_address AS address,\n",
    "  UNIX_SECONDS(CAST(output_ages.output_month_min AS TIMESTAMP)) AS output_month_min,\n",
    "  UNIX_SECONDS(CAST(output_ages.output_month_max AS TIMESTAMP)) AS output_month_max,\n",
    "  UNIX_SECONDS(CAST(input_ages.input_month_min AS TIMESTAMP)) AS input_month_min,\n",
    "  UNIX_SECONDS(CAST(input_ages.input_month_max AS TIMESTAMP)) AS input_month_max,\n",
    "  UNIX_SECONDS(CAST(output_ages.output_month_max AS TIMESTAMP)) - UNIX_SECONDS(CAST(output_ages.output_month_min AS TIMESTAMP)) AS output_active_time,\n",
    "  UNIX_SECONDS(CAST(input_ages.input_month_max AS TIMESTAMP)) - UNIX_SECONDS(CAST(input_ages.input_month_min AS TIMESTAMP)) AS input_active_time,\n",
    "  UNIX_SECONDS(CAST(output_ages.output_month_max AS TIMESTAMP)) - UNIX_SECONDS(CAST(input_ages.input_month_max AS TIMESTAMP)) AS io_max_lag,\n",
    "  UNIX_SECONDS(CAST(output_ages.output_month_min AS TIMESTAMP)) - UNIX_SECONDS(CAST(input_ages.input_month_min AS TIMESTAMP)) AS io_min_lag,\n",
    "  output_monthly_stats.output_active_months,\n",
    "  output_monthly_stats.total_tx_output_count,\n",
    "  output_monthly_stats.total_tx_output_value,\n",
    "  output_monthly_stats.mean_tx_output_value,\n",
    "  output_monthly_stats.stddev_tx_output_value,\n",
    "  output_monthly_stats.total_output_tx,\n",
    "  output_monthly_stats.mean_monthly_output_value,\n",
    "  output_monthly_stats.mean_monthly_output_count,\n",
    "  input_monthly_stats.input_active_months,\n",
    "  input_monthly_stats.total_tx_input_count,\n",
    "  input_monthly_stats.total_tx_input_value,\n",
    "  input_monthly_stats.mean_tx_input_value,\n",
    "  input_monthly_stats.stddev_tx_input_value,\n",
    "  input_monthly_stats.total_input_tx,\n",
    "  input_monthly_stats.mean_monthly_input_value,\n",
    "  input_monthly_stats.mean_monthly_input_count,\n",
    "  output_idle_times.mean_output_idle_time,\n",
    "  output_idle_times.stddev_output_idle_time,\n",
    "  input_idle_times.mean_input_idle_time,\n",
    "  input_idle_times.stddev_input_idle_time\n",
    "FROM\n",
    "  output_ages, output_monthly_stats, output_idle_times,\n",
    "  input_ages,  input_monthly_stats, input_idle_times\n",
    "WHERE TRUE\n",
    "  AND output_ages.output_ages_address = output_monthly_stats.output_monthly_stats_address\n",
    "  AND output_ages.output_ages_address = output_idle_times.idle_time_address\n",
    "  AND output_ages.output_ages_address = input_monthly_stats.input_monthly_stats_address\n",
    "  AND output_ages.output_ages_address = input_ages.input_ages_address\n",
    "  AND output_ages.output_ages_address = input_idle_times.idle_time_address\n",
    "  AND output_ages.output_ages_address NOT IN\n",
    "(\n",
    "  SELECT \n",
    "    ARRAY_TO_STRING(outputs.addresses,',') AS miner\n",
    "  FROM \n",
    "  `bigquery-public-data.crypto_bitcoin.blocks` AS blocks,\n",
    "  `bigquery-public-data.crypto_bitcoin.transactions` AS transactions JOIN UNNEST(outputs) AS outputs\n",
    "  WHERE blocks.hash = transactions.block_hash \n",
    "    AND is_coinbase IS TRUE\n",
    "    AND ( FALSE\n",
    "      --\n",
    "      -- miner signatures from https://en.bitcoin.it/wiki/Comparison_of_mining_pools\n",
    "      --\n",
    "      OR coinbase_param LIKE '%4d696e656420627920416e74506f6f6c%' --AntPool\n",
    "      OR coinbase_param LIKE '%2f42434d6f6e737465722f%' --BCMonster\n",
    "      --BitcoinAffiliateNetwork\n",
    "      OR coinbase_param LIKE '%4269744d696e746572%' --BitMinter\n",
    "      --BTC.com\n",
    "      --BTCC Pool\n",
    "      --BTCDig\n",
    "      OR coinbase_param LIKE '%2f7374726174756d2f%' --Btcmp\n",
    "      --btcZPool.com\n",
    "      --BW Mining\n",
    "      OR coinbase_param LIKE '%456c6967697573%' --Eligius\n",
    "      --F2Pool\n",
    "      --GHash.IO\n",
    "      --Give Me COINS\n",
    "      --Golden Nonce Pool\n",
    "      OR coinbase_param LIKE '%2f627261766f2d6d696e696e672f%' --Bravo Mining\n",
    "      OR coinbase_param LIKE '%4b616e6f%' --KanoPool\n",
    "      --kmdPool.org\n",
    "      OR coinbase_param LIKE '%2f6d6d706f6f6c%' --Merge Mining Pool\n",
    "      --MergeMining\n",
    "      --Multipool\n",
    "      --P2Pool\n",
    "      OR coinbase_param LIKE '%2f736c7573682f%' --Slush Pool\n",
    "      --ZenPool.org\n",
    "    )\n",
    "  GROUP BY miner\n",
    "  HAVING COUNT(1) >= 20 \n",
    ")\n",
    "LIMIT {})\n",
    "'''.format(miner_vectors_limit, non_miner_vectors_limit)\n",
    "\n",
    "print(\"Success 3\")"
   ]
  },
  {
   "cell_type": "code",
   "execution_count": 4,
   "metadata": {},
   "outputs": [
    {
     "name": "stdout",
     "output_type": "stream",
     "text": [
      "Success 4\n",
      "Elapsed Duration: 198.322203874588\n"
     ]
    }
   ],
   "source": [
    "start = time.time()\n",
    "\n",
    "df = client.query(sql).to_dataframe()\n",
    "print(\"Success 4\")\n",
    "\n",
    "elapsed = time.time() - start\n",
    "print(f'Elapsed Duration: {elapsed}')"
   ]
  },
  {
   "cell_type": "code",
   "execution_count": 5,
   "metadata": {},
   "outputs": [
    {
     "name": "stdout",
     "output_type": "stream",
     "text": [
      "<class 'pandas.core.frame.DataFrame'>\n",
      "RangeIndex: 22000 entries, 0 to 21999\n",
      "Data columns (total 30 columns):\n",
      "is_miner                     22000 non-null bool\n",
      "address                      22000 non-null object\n",
      "output_month_min             22000 non-null int64\n",
      "output_month_max             22000 non-null int64\n",
      "input_month_min              22000 non-null int64\n",
      "input_month_max              22000 non-null int64\n",
      "output_active_time           22000 non-null int64\n",
      "input_active_time            22000 non-null int64\n",
      "io_max_lag                   22000 non-null int64\n",
      "io_min_lag                   22000 non-null int64\n",
      "output_active_months         22000 non-null int64\n",
      "total_tx_output_count        22000 non-null int64\n",
      "total_tx_output_value        22000 non-null object\n",
      "mean_tx_output_value         22000 non-null object\n",
      "stddev_tx_output_value       22000 non-null float64\n",
      "total_output_tx              22000 non-null int64\n",
      "mean_monthly_output_value    22000 non-null object\n",
      "mean_monthly_output_count    22000 non-null float64\n",
      "input_active_months          22000 non-null int64\n",
      "total_tx_input_count         22000 non-null int64\n",
      "total_tx_input_value         22000 non-null object\n",
      "mean_tx_input_value          22000 non-null object\n",
      "stddev_tx_input_value        22000 non-null float64\n",
      "total_input_tx               22000 non-null int64\n",
      "mean_monthly_input_value     22000 non-null object\n",
      "mean_monthly_input_count     22000 non-null float64\n",
      "mean_output_idle_time        22000 non-null float64\n",
      "stddev_output_idle_time      14367 non-null float64\n",
      "mean_input_idle_time         22000 non-null float64\n",
      "stddev_input_idle_time       13367 non-null float64\n",
      "dtypes: bool(1), float64(8), int64(14), object(7)\n",
      "memory usage: 4.9+ MB\n",
      "Success 5\n"
     ]
    }
   ],
   "source": [
    "df.info()\n",
    "print(\"Success 5\")"
   ]
  },
  {
   "cell_type": "code",
   "execution_count": 6,
   "metadata": {},
   "outputs": [
    {
     "name": "stdout",
     "output_type": "stream",
     "text": [
      "Success 6\n"
     ]
    }
   ],
   "source": [
    "df.drop(labels=['stddev_output_idle_time','stddev_input_idle_time'], axis=1, inplace=True)\n",
    "print(\"Success 6\")"
   ]
  },
  {
   "cell_type": "code",
   "execution_count": 7,
   "metadata": {},
   "outputs": [
    {
     "name": "stdout",
     "output_type": "stream",
     "text": [
      "Success 7\n"
     ]
    }
   ],
   "source": [
    "features = df.drop(labels=['is_miner','address'], axis=1)\n",
    "target = df['is_miner'].values\n",
    "indices = range(len(features))\n",
    "\n",
    "#Train test split\n",
    "X_train, X_test, y_train, y_test, indices_train, indices_test = train_test_split(features, target, indices,  test_size=0.2)\n",
    "\n",
    "\n",
    "print(\"Success 7\")"
   ]
  },
  {
   "cell_type": "code",
   "execution_count": 8,
   "metadata": {},
   "outputs": [
    {
     "name": "stdout",
     "output_type": "stream",
     "text": [
      "Success 8\n"
     ]
    }
   ],
   "source": [
    "rf = RandomForestClassifier(n_estimators=200, class_weight='balanced')\n",
    "rf.fit(X_train, y_train)\n",
    "\n",
    "print(\"Success 8\")"
   ]
  },
  {
   "cell_type": "code",
   "execution_count": 9,
   "metadata": {},
   "outputs": [
    {
     "name": "stdout",
     "output_type": "stream",
     "text": [
      "Success 9\n"
     ]
    }
   ],
   "source": [
    "y_pred = rf.predict(X_test) #\n",
    "probs = rf.predict_proba(X_test)[:,1] #positive class probabilities\n",
    "\n",
    "\n",
    "print(\"Success 9\")"
   ]
  },
  {
   "cell_type": "code",
   "execution_count": 10,
   "metadata": {},
   "outputs": [
    {
     "name": "stdout",
     "output_type": "stream",
     "text": [
      "Success 10\n"
     ]
    }
   ],
   "source": [
    "\n",
    "\n",
    "precision, recall, thresholds = precision_recall_curve(y_test, probs)\n",
    "print(\"Success 10\")"
   ]
  },
  {
   "cell_type": "code",
   "execution_count": 11,
   "metadata": {},
   "outputs": [
    {
     "name": "stdout",
     "output_type": "stream",
     "text": [
      "Success 11\n"
     ]
    },
    {
     "data": {
      "image/png": "[encoded data removed]",
      "text/plain": [
       "<Figure size 576x432 with 1 Axes>"
      ]
     },
     "metadata": {
      "needs_background": "light"
     },
     "output_type": "display_data"
    }
   ],
   "source": [
    "# Precision / recall curve code adapted from https://scikit-learn.org/stable/modules/generated/sklearn.metrics.precision_recall_curve.html\n",
    "\n",
    "fig, ax = plt.subplots(figsize=(8,6))\n",
    "step_kwargs = ({'step': 'post'}\n",
    "               if 'step' in signature(plt.fill_between).parameters\n",
    "               else {})\n",
    "plt.step(recall, precision, color='b', alpha=0.2,\n",
    "         where='post')\n",
    "plt.fill_between(recall, precision, alpha=0.2, color='b', **step_kwargs)\n",
    "\n",
    "plt.xlabel('Recall')\n",
    "plt.ylabel('Precision')\n",
    "plt.ylim([0.0, 1.0])\n",
    "plt.xlim([0.0, 1.0])\n",
    "ax.xaxis.set_major_formatter(mtick.PercentFormatter(1.0))\n",
    "ax.yaxis.set_major_formatter(mtick.PercentFormatter(1.0))\n",
    "plt.title('Mining Pool Detector - Precision/Recall Curve', fontsize=14)\n",
    "\n",
    "print(\"Success 11\")"
   ]
  },
  {
   "cell_type": "code",
   "execution_count": 12,
   "metadata": {},
   "outputs": [
    {
     "name": "stdout",
     "output_type": "stream",
     "text": [
      "Confusion matrix, without normalization\n",
      "[[3971   32]\n",
      " [  17  380]]\n"
     ]
    },
    {
     "data": {
      "text/plain": [
       "<Figure size 432x288 with 0 Axes>"
      ]
     },
     "metadata": {},
     "output_type": "display_data"
    },
    {
     "data": {
      "image/png": "[encoded data removed]",
      "text/plain": [
       "<Figure size 576x432 with 1 Axes>"
      ]
     },
     "metadata": {
      "needs_background": "light"
     },
     "output_type": "display_data"
    },
    {
     "name": "stdout",
     "output_type": "stream",
     "text": [
      "Success 12\n"
     ]
    }
   ],
   "source": [
    "#lection/plot_confusion_matrix.html\n",
    "\n",
    "def plot_confusion_matrix(cm, classes,\n",
    "                          normalize=False,\n",
    "                          title='Confusion matrix',\n",
    "                          cmap=plt.cm.Blues):\n",
    "    \"\"\"\n",
    "    This function prints and plots the confusion matrix.\n",
    "    Normalization can be applied by setting `normalize=True`.\n",
    "    \"\"\"\n",
    "    if normalize:\n",
    "        cm = cm.astype('float') / cm.sum(axis=1)[:, np.newaxis]\n",
    "        print(\"Normalized confusion matrix\")\n",
    "    else:\n",
    "        print('Confusion matrix, without normalization')\n",
    "\n",
    "    print(cm)\n",
    "    dummy=np.array([[0,0],[0,0]])\n",
    "    plt.figure(figsize=(8,6))\n",
    "    plt.imshow(dummy, interpolation='nearest', cmap=cmap)\n",
    "    plt.title(title)\n",
    "    tick_marks = np.arange(len(classes))\n",
    "    plt.xticks(tick_marks, classes, rotation=45)\n",
    "    plt.yticks(tick_marks, classes)\n",
    "\n",
    "    fmt = '.2f' if normalize else 'd'\n",
    "    thresh = cm.max() / 2.\n",
    "    for i, j in itertools.product(range(cm.shape[0]), range(cm.shape[1])):\n",
    "        plt.text(j, i, format(cm[i, j], fmt),\n",
    "                 horizontalalignment=\"center\",\n",
    "                 color=\"black\")\n",
    "\n",
    "    plt.ylabel('True label')\n",
    "    plt.xlabel('Predicted label')\n",
    "    plt.tight_layout()\n",
    "\n",
    "\n",
    "# Compute confusion matrix\n",
    "cnf_matrix = confusion_matrix(y_test, y_pred)\n",
    "class_names = ['not mining pool', 'mining pool']\n",
    "np.set_printoptions(precision=2)\n",
    "\n",
    "# Plot confusion matrix\n",
    "plt.figure()\n",
    "plot_confusion_matrix(cnf_matrix, classes=class_names, normalize=False,\n",
    "                      title='Mining Pool Detector - Confusion Matrix')\n",
    "\n",
    "plt.show()\n",
    "\n",
    "\n",
    "print(\"Success 12\")"
   ]
  },
  {
   "cell_type": "code",
   "execution_count": 13,
   "metadata": {},
   "outputs": [
    {
     "name": "stdout",
     "output_type": "stream",
     "text": [
      "Success 13\n"
     ]
    },
    {
     "data": {
      "image/png": "[encoded data removed]",
      "text/plain": [
       "<Figure size 864x432 with 1 Axes>"
      ]
     },
     "metadata": {
      "needs_background": "light"
     },
     "output_type": "display_data"
    }
   ],
   "source": [
    "x_pos = np.arange(len(features.columns))\n",
    "btc_importances = rf.feature_importances_\n",
    "\n",
    "inds = np.argsort(btc_importances)[::-1]\n",
    "btc_importances = btc_importances[inds]\n",
    "cols = features.columns[inds]\n",
    "bar_width = .8\n",
    "\n",
    "#how many features to plot?\n",
    "n_features=12\n",
    "x_pos = x_pos[:n_features][::-1]\n",
    "btc_importances = btc_importances[:n_features]\n",
    "\n",
    "#plot\n",
    "plt.figure(figsize=(12,6))\n",
    "plt.barh(x_pos, btc_importances, bar_width, label='BTC model')\n",
    "plt.yticks(x_pos, cols, rotation=0, fontsize=14)\n",
    "plt.xlabel('feature importance', fontsize=14)\n",
    "plt.title('Mining Pool Detector', fontsize=20)\n",
    "plt.tight_layout()\n",
    "\n",
    "print(\"Success 13\")"
   ]
  },
  {
   "cell_type": "code",
   "execution_count": 14,
   "metadata": {},
   "outputs": [
    {
     "name": "stdout",
     "output_type": "stream",
     "text": [
      "Success 14\n"
     ]
    }
   ],
   "source": [
    "false_positives = (y_test==False) & (y_pred==True)\n",
    "print(\"Success 14\")"
   ]
  },
  {
   "cell_type": "code",
   "execution_count": 15,
   "metadata": {},
   "outputs": [
    {
     "name": "stdout",
     "output_type": "stream",
     "text": [
      "False Positive addresses\n",
      "      is_miner                             address  output_month_min  \\\n",
      "1628     False  1Hb3hzFmhYyvDSzKRSntW3WLukXDGz6chx        1425168000   \n",
      "2062     False  1Ni9hm89ptrin2TrJcuAM3ScBk9Hu7DR6G        1420070400   \n",
      "2121     False  142r1ZSDWdnHPDLEUUMHD5km9MASq9hXFr        1391212800   \n",
      "2105     False  12tQgEyqJLkbcCsU9r5bDM8fbT5SLBTVUa        1438387200   \n",
      "303      False  12rE2EopYdkbktzKAKsMoPW3r8het9dHaJ        1404172800   \n",
      "1060     False   1tu62iemzhhsbkekpzwaGxP1VYbu2i1xF        1391212800   \n",
      "667      False  1CwmksPZUfZbEh7efyzpueF8rBnHm99DFa        1388534400   \n",
      "1606     False  1FGo3xa9T48ErmS4vUsKzwJgvuwtDjPKwP        1351728000   \n",
      "2095     False  1KcRW4srjAGuvgjxQzZbQ8t4p243DanFVF        1354320000   \n",
      "2102     False  1EeMdKMWkywnd7Jqxp4PtWinegnAPANRzW        1343779200   \n",
      "1179     False  1KC9XPdVbVYSoxvhzpnVBoEZjYwbTMAHWG        1404172800   \n",
      "140      False  1AM9ZtodFG3unDPs7pEm9JP9ibNXg7st5z        1306886400   \n",
      "1647     False  1LcGBxWGtoiXU7wJ2Aumdf3Auo8wb9VaNq        1356998400   \n",
      "84       False  1Ktw9xTRfU68ZU48h8piZ6DzKkVFkHcUr5        1367366400   \n",
      "1561     False  1GuL9wFGBntBixnW7y8fQ6JP2fvho5wrRQ        1385856000   \n",
      "\n",
      "      output_month_max  input_month_min  input_month_max  output_active_time  \\\n",
      "1628        1454284800       1425168000       1456790400            29116800   \n",
      "2062        1427846400       1420070400       1427846400             7776000   \n",
      "2121        1467331200       1391212800       1398902400            76118400   \n",
      "2105        1459468800       1438387200       1459468800            21081600   \n",
      "303         1441065600       1404172800       1417392000            36892800   \n",
      "1060        1412121600       1412121600       1412121600            20908800   \n",
      "667         1433116800       1396310400       1498867200            44582400   \n",
      "1606        1422748800       1351728000       1372636800            71020800   \n",
      "2095        1367366400       1354320000       1372636800            13046400   \n",
      "2102        1364774400       1343779200       1364774400            20995200   \n",
      "1179        1451606400       1404172800       1451606400            47433600   \n",
      "140         1377993600       1306886400       1377993600            71107200   \n",
      "1647        1420070400       1356998400       1420070400            63072000   \n",
      "84          1383264000       1370044800       1501545600            15897600   \n",
      "1561        1412121600       1385856000       1409529600            26265600   \n",
      "\n",
      "      input_active_time  io_max_lag  io_min_lag  ...  input_active_months  \\\n",
      "1628           31622400    -2505600           0  ...                   13   \n",
      "2062            7776000           0           0  ...                    4   \n",
      "2121            7689600    68428800           0  ...                    4   \n",
      "2105           21081600           0           0  ...                    8   \n",
      "303            13219200    23673600           0  ...                    4   \n",
      "1060                  0           0   -20908800  ...                    1   \n",
      "667           102556800   -65750400    -7776000  ...                    4   \n",
      "1606           20908800    50112000           0  ...                    8   \n",
      "2095           18316800    -5270400           0  ...                    5   \n",
      "2102           20995200           0           0  ...                    8   \n",
      "1179           47433600           0           0  ...                   19   \n",
      "140            71107200           0           0  ...                   25   \n",
      "1647           63072000           0           0  ...                   14   \n",
      "84            131500800  -118281600    -2678400  ...                    6   \n",
      "1561           23673600     2592000           0  ...                    6   \n",
      "\n",
      "      total_tx_input_count total_tx_input_value   mean_tx_input_value  \\\n",
      "1628                    39            230129502     5900756.461538462   \n",
      "2062                    33            374622821    11352206.696969697   \n",
      "2121                    90           1440318710    16003541.222222222   \n",
      "2105                    39            409321311    10495418.230769231   \n",
      "303                     24            188340209     7847508.708333333   \n",
      "1060                    81            899658547    11106895.641975309   \n",
      "667                     27            861664751    31913509.296296296   \n",
      "1606                   213          67480171952   316808319.023474178   \n",
      "2095                   162           1660681929    10251123.018518519   \n",
      "2102                   127           1195882760      9416399.68503937   \n",
      "1179                    54            355793163     6588762.277777778   \n",
      "140                    497         106591969876   214470764.338028169   \n",
      "1647                    29            662291190     22837627.24137931   \n",
      "84                      29            257750874     8887961.172413793   \n",
      "1561                   229         251944526575  1100194439.192139738   \n",
      "\n",
      "      stddev_tx_input_value  total_input_tx mean_monthly_input_value  \\\n",
      "1628           1.404519e+07              39        5900756.461538462   \n",
      "2062           3.856249e+07              16       11352206.696969697   \n",
      "2121           6.210868e+07              11       16003541.222222222   \n",
      "2105           1.193960e+07              26       10495418.230769231   \n",
      "303            3.546197e+06               6        7847508.708333333   \n",
      "1060           3.895249e+07               8       11106895.641975309   \n",
      "667            4.317122e+07               4       31913509.296296296   \n",
      "1606           4.753504e+08              85      316808319.023474178   \n",
      "2095           1.719936e+07              76       10251123.018518519   \n",
      "2102           2.725096e+06              15         9416399.68503937   \n",
      "1179           2.070407e+07              54        6588762.277777778   \n",
      "140            2.239446e+08             176      214470764.338028169   \n",
      "1647           3.540535e+07              29        22837627.24137931   \n",
      "84             3.553298e+06              15        8887961.172413793   \n",
      "1561           6.508569e+09              15     1100194439.192139738   \n",
      "\n",
      "      mean_monthly_input_count  mean_output_idle_time  mean_input_idle_time  \n",
      "1628                       1.0           8.026357e+05          8.498184e+05  \n",
      "2062                       1.0           1.803301e+05          5.147671e+05  \n",
      "2121                       1.0           7.614732e+05          6.662305e+05  \n",
      "2105                       1.0           4.919687e+05          7.474650e+05  \n",
      "303                        1.0           7.595460e+05          2.608051e+06  \n",
      "1060                       1.0           2.700123e+05          1.574140e+05  \n",
      "667                        1.0           1.731784e+06          3.450397e+07  \n",
      "1606                       1.0           3.695983e+05          2.965631e+05  \n",
      "2095                       1.0           3.714251e+05          8.738292e+05  \n",
      "2102                       1.0           1.486863e+05          1.348595e+06  \n",
      "1179                       1.0           8.509570e+05          8.508520e+05  \n",
      "140                        1.0           1.484282e+05          4.350846e+05  \n",
      "1647                       1.0           2.248381e+06          2.244691e+06  \n",
      "84                         1.0           6.506823e+05          9.426710e+06  \n",
      "1561                       1.0           1.157322e+05          1.889183e+06  \n",
      "\n",
      "[15 rows x 28 columns]\n",
      "Success 15\n"
     ]
    }
   ],
   "source": [
    "df_test = df.iloc[indices_test, :]\n",
    "\n",
    "print('False Positive addresses')\n",
    "\n",
    "#subset test set to false positives only\n",
    "df_test.iloc[false_positives].head(15)\n",
    "print(df_test.iloc[false_positives].head(15))\n",
    "print(\"Success 15\")"
   ]
  },
  {
   "cell_type": "code",
   "execution_count": null,
   "metadata": {},
   "outputs": [],
   "source": []
  },
  {
   "cell_type": "code",
   "execution_count": null,
   "metadata": {},
   "outputs": [],
   "source": []
  }
 ],
 "metadata": {
  "kernelspec": {
   "display_name": "Python 3",
   "language": "python",
   "name": "python3"
  },
  "language_info": {
   "codemirror_mode": {
    "name": "ipython",
    "version": 3
   },
   "file_extension": ".py",
   "mimetype": "text/x-python",
   "name": "python",
   "nbconvert_exporter": "python",
   "pygments_lexer": "ipython3",
   "version": "3.7.4"
  }
 },
 "nbformat": 4,
 "nbformat_minor": 2
}
